{
  "nbformat": 4,
  "nbformat_minor": 0,
  "metadata": {
    "colab": {
      "name": "LoL2019.ipynb",
      "provenance": [],
      "collapsed_sections": [],
      "include_colab_link": true
    },
    "kernelspec": {
      "name": "python3",
      "display_name": "Python 3"
    }
  },
  "cells": [
    {
      "cell_type": "markdown",
      "metadata": {
        "id": "view-in-github",
        "colab_type": "text"
      },
      "source": [
        "<a href=\"https://colab.research.google.com/github/dzurel/E-Sports/blob/master/LoL2019.ipynb\" target=\"_parent\"><img src=\"https://colab.research.google.com/assets/colab-badge.svg\" alt=\"Open In Colab\"/></a>"
      ]
    },
    {
      "cell_type": "markdown",
      "metadata": {
        "id": "1_fkyWkU58zX",
        "colab_type": "text"
      },
      "source": [
        "## **League of Legends World Championship 2019**\n",
        "This notebook is made to make exploration on esports in League of Legends World Championship."
      ]
    },
    {
      "cell_type": "markdown",
      "metadata": {
        "id": "LPX1BZbl6bqU",
        "colab_type": "text"
      },
      "source": [
        "### Importing libraries"
      ]
    },
    {
      "cell_type": "code",
      "metadata": {
        "id": "u2O8fssB_4Cx",
        "colab_type": "code",
        "colab": {}
      },
      "source": [
        ""
      ],
      "execution_count": 0,
      "outputs": []
    },
    {
      "cell_type": "code",
      "metadata": {
        "id": "FmN004An51OY",
        "colab_type": "code",
        "colab": {}
      },
      "source": [
        "import pandas as pd\n",
        "import numpy as np\n",
        "import matplotlib.pyplot as plt\n",
        "import seaborn as sns\n",
        "\n",
        "%matplotlib inline\n",
        "pd.set_option('display.max_column',None)\n",
        "pd.set_option('display.max_row',None)"
      ],
      "execution_count": 0,
      "outputs": []
    },
    {
      "cell_type": "markdown",
      "metadata": {
        "id": "2zFojM0a6rDl",
        "colab_type": "text"
      },
      "source": [
        "### Reading the Data"
      ]
    },
    {
      "cell_type": "code",
      "metadata": {
        "id": "_LMbln8s7r2A",
        "colab_type": "code",
        "outputId": "b00eea71-8a11-45ff-e9ff-7efe95e69326",
        "colab": {
          "base_uri": "https://localhost:8080/",
          "height": 309
        }
      },
      "source": [
        "df = pd.read_csv(\"https://raw.githubusercontent.com/dzurel/E-Sports/master/2019-summer-match-data-OraclesElixir-2019-11-10.csv\")\n",
        "df.head()"
      ],
      "execution_count": 2,
      "outputs": [
        {
          "output_type": "execute_result",
          "data": {
            "text/html": [
              "<div>\n",
              "<style scoped>\n",
              "    .dataframe tbody tr th:only-of-type {\n",
              "        vertical-align: middle;\n",
              "    }\n",
              "\n",
              "    .dataframe tbody tr th {\n",
              "        vertical-align: top;\n",
              "    }\n",
              "\n",
              "    .dataframe thead th {\n",
              "        text-align: right;\n",
              "    }\n",
              "</style>\n",
              "<table border=\"1\" class=\"dataframe\">\n",
              "  <thead>\n",
              "    <tr style=\"text-align: right;\">\n",
              "      <th></th>\n",
              "      <th>gameid</th>\n",
              "      <th>url</th>\n",
              "      <th>league</th>\n",
              "      <th>split</th>\n",
              "      <th>date</th>\n",
              "      <th>week</th>\n",
              "      <th>game</th>\n",
              "      <th>patchno</th>\n",
              "      <th>playerid</th>\n",
              "      <th>side</th>\n",
              "      <th>position</th>\n",
              "      <th>player</th>\n",
              "      <th>team</th>\n",
              "      <th>champion</th>\n",
              "      <th>ban1</th>\n",
              "      <th>ban2</th>\n",
              "      <th>ban3</th>\n",
              "      <th>ban4</th>\n",
              "      <th>ban5</th>\n",
              "      <th>gamelength</th>\n",
              "      <th>result</th>\n",
              "      <th>k</th>\n",
              "      <th>d</th>\n",
              "      <th>a</th>\n",
              "      <th>teamkills</th>\n",
              "      <th>teamdeaths</th>\n",
              "      <th>doubles</th>\n",
              "      <th>triples</th>\n",
              "      <th>quadras</th>\n",
              "      <th>pentas</th>\n",
              "      <th>fb</th>\n",
              "      <th>fbassist</th>\n",
              "      <th>fbvictim</th>\n",
              "      <th>fbtime</th>\n",
              "      <th>kpm</th>\n",
              "      <th>okpm</th>\n",
              "      <th>ckpm</th>\n",
              "      <th>fd</th>\n",
              "      <th>fdtime</th>\n",
              "      <th>teamdragkills</th>\n",
              "      <th>oppdragkills</th>\n",
              "      <th>elementals</th>\n",
              "      <th>oppelementals</th>\n",
              "      <th>firedrakes</th>\n",
              "      <th>waterdrakes</th>\n",
              "      <th>earthdrakes</th>\n",
              "      <th>airdrakes</th>\n",
              "      <th>elders</th>\n",
              "      <th>oppelders</th>\n",
              "      <th>herald</th>\n",
              "      <th>heraldtime</th>\n",
              "      <th>ft</th>\n",
              "      <th>fttime</th>\n",
              "      <th>firstmidouter</th>\n",
              "      <th>firsttothreetowers</th>\n",
              "      <th>teamtowerkills</th>\n",
              "      <th>opptowerkills</th>\n",
              "      <th>fbaron</th>\n",
              "      <th>fbarontime</th>\n",
              "      <th>teambaronkills</th>\n",
              "      <th>oppbaronkills</th>\n",
              "      <th>dmgtochamps</th>\n",
              "      <th>dmgtochampsperminute</th>\n",
              "      <th>dmgshare</th>\n",
              "      <th>earnedgoldshare</th>\n",
              "      <th>wards</th>\n",
              "      <th>wpm</th>\n",
              "      <th>wardshare</th>\n",
              "      <th>wardkills</th>\n",
              "      <th>wcpm</th>\n",
              "      <th>visionwards</th>\n",
              "      <th>visionwardbuys</th>\n",
              "      <th>visiblewardclearrate</th>\n",
              "      <th>invisiblewardclearrate</th>\n",
              "      <th>totalgold</th>\n",
              "      <th>earnedgpm</th>\n",
              "      <th>goldspent</th>\n",
              "      <th>gspd</th>\n",
              "      <th>minionkills</th>\n",
              "      <th>monsterkills</th>\n",
              "      <th>monsterkillsownjungle</th>\n",
              "      <th>monsterkillsenemyjungle</th>\n",
              "      <th>cspm</th>\n",
              "      <th>goldat10</th>\n",
              "      <th>oppgoldat10</th>\n",
              "      <th>gdat10</th>\n",
              "      <th>goldat15</th>\n",
              "      <th>oppgoldat15</th>\n",
              "      <th>gdat15</th>\n",
              "      <th>xpat10</th>\n",
              "      <th>oppxpat10</th>\n",
              "      <th>xpdat10</th>\n",
              "      <th>csat10</th>\n",
              "      <th>oppcsat10</th>\n",
              "      <th>csdat10</th>\n",
              "      <th>csat15</th>\n",
              "      <th>oppcsat15</th>\n",
              "      <th>csdat15</th>\n",
              "    </tr>\n",
              "  </thead>\n",
              "  <tbody>\n",
              "    <tr>\n",
              "      <th>0</th>\n",
              "      <td>1070340.0</td>\n",
              "      <td>https://matchhistory.euw.leagueoflegends.com/e...</td>\n",
              "      <td>WC</td>\n",
              "      <td>2019-W</td>\n",
              "      <td>43740.286146</td>\n",
              "      <td>PI-RR</td>\n",
              "      <td>1.0</td>\n",
              "      <td>9.19</td>\n",
              "      <td>1.0</td>\n",
              "      <td>Blue</td>\n",
              "      <td>Top</td>\n",
              "      <td>Evi</td>\n",
              "      <td>DetonatioN FocusMe</td>\n",
              "      <td>Gnar</td>\n",
              "      <td>Qiyana</td>\n",
              "      <td>Gangplank</td>\n",
              "      <td>Akali</td>\n",
              "      <td>Elise</td>\n",
              "      <td>Olaf</td>\n",
              "      <td>26.533333</td>\n",
              "      <td>0.0</td>\n",
              "      <td>0.0</td>\n",
              "      <td>4.0</td>\n",
              "      <td>4.0</td>\n",
              "      <td>7.0</td>\n",
              "      <td>22.0</td>\n",
              "      <td>0.0</td>\n",
              "      <td>0.0</td>\n",
              "      <td>0.0</td>\n",
              "      <td>0.0</td>\n",
              "      <td>0.0</td>\n",
              "      <td>0.0</td>\n",
              "      <td>0.0</td>\n",
              "      <td>3.879983</td>\n",
              "      <td>0.000000</td>\n",
              "      <td>0.037688</td>\n",
              "      <td>1.092965</td>\n",
              "      <td>0.0</td>\n",
              "      <td>9.717567</td>\n",
              "      <td>1.0</td>\n",
              "      <td>2.0</td>\n",
              "      <td>0.0</td>\n",
              "      <td>0.0</td>\n",
              "      <td>0.0</td>\n",
              "      <td>0.0</td>\n",
              "      <td>0.0</td>\n",
              "      <td>0.0</td>\n",
              "      <td>0.0</td>\n",
              "      <td>0.0</td>\n",
              "      <td>0.0</td>\n",
              "      <td>NaN</td>\n",
              "      <td>0.0</td>\n",
              "      <td>13.588567</td>\n",
              "      <td>0.0</td>\n",
              "      <td>0.0</td>\n",
              "      <td>1.0</td>\n",
              "      <td>10.0</td>\n",
              "      <td>0.0</td>\n",
              "      <td>23.779817</td>\n",
              "      <td>0.0</td>\n",
              "      <td>1.0</td>\n",
              "      <td>11588.0</td>\n",
              "      <td>436.733668</td>\n",
              "      <td>0.31206743328037057</td>\n",
              "      <td>0.2068443834548889</td>\n",
              "      <td>11.0</td>\n",
              "      <td>0.414573</td>\n",
              "      <td>0.105769</td>\n",
              "      <td>4.0</td>\n",
              "      <td>0.150754</td>\n",
              "      <td>4.0</td>\n",
              "      <td>6.0</td>\n",
              "      <td></td>\n",
              "      <td></td>\n",
              "      <td>8407.0</td>\n",
              "      <td>184.059799</td>\n",
              "      <td>8300.0</td>\n",
              "      <td>-0.151448</td>\n",
              "      <td>180.0</td>\n",
              "      <td>8.0</td>\n",
              "      <td>4.0</td>\n",
              "      <td>1.0</td>\n",
              "      <td>7.085427</td>\n",
              "      <td>3078.0</td>\n",
              "      <td>3440.0</td>\n",
              "      <td>-362.0</td>\n",
              "      <td>4670.0</td>\n",
              "      <td>5468.0</td>\n",
              "      <td>-798.0</td>\n",
              "      <td>4530.0</td>\n",
              "      <td>5051.0</td>\n",
              "      <td>-521.0</td>\n",
              "      <td>76.0</td>\n",
              "      <td>90.0</td>\n",
              "      <td>-14.0</td>\n",
              "      <td>116.0</td>\n",
              "      <td>122.0</td>\n",
              "      <td>-6.0</td>\n",
              "    </tr>\n",
              "    <tr>\n",
              "      <th>1</th>\n",
              "      <td>1070340.0</td>\n",
              "      <td>https://matchhistory.euw.leagueoflegends.com/e...</td>\n",
              "      <td>WC</td>\n",
              "      <td>2019-W</td>\n",
              "      <td>43740.286146</td>\n",
              "      <td>PI-RR</td>\n",
              "      <td>1.0</td>\n",
              "      <td>9.19</td>\n",
              "      <td>2.0</td>\n",
              "      <td>Blue</td>\n",
              "      <td>Jungle</td>\n",
              "      <td>Steal</td>\n",
              "      <td>DetonatioN FocusMe</td>\n",
              "      <td>Ekko</td>\n",
              "      <td>Qiyana</td>\n",
              "      <td>Gangplank</td>\n",
              "      <td>Akali</td>\n",
              "      <td>Elise</td>\n",
              "      <td>Olaf</td>\n",
              "      <td>26.533333</td>\n",
              "      <td>0.0</td>\n",
              "      <td>1.0</td>\n",
              "      <td>4.0</td>\n",
              "      <td>5.0</td>\n",
              "      <td>7.0</td>\n",
              "      <td>22.0</td>\n",
              "      <td>0.0</td>\n",
              "      <td>0.0</td>\n",
              "      <td>0.0</td>\n",
              "      <td>0.0</td>\n",
              "      <td>0.0</td>\n",
              "      <td>0.0</td>\n",
              "      <td>0.0</td>\n",
              "      <td>3.879983</td>\n",
              "      <td>0.037688</td>\n",
              "      <td>0.263819</td>\n",
              "      <td>1.092965</td>\n",
              "      <td>1.0</td>\n",
              "      <td>9.717567</td>\n",
              "      <td>1.0</td>\n",
              "      <td>2.0</td>\n",
              "      <td>1.0</td>\n",
              "      <td>2.0</td>\n",
              "      <td>0.0</td>\n",
              "      <td>0.0</td>\n",
              "      <td>0.0</td>\n",
              "      <td>1.0</td>\n",
              "      <td>0.0</td>\n",
              "      <td>0.0</td>\n",
              "      <td>0.0</td>\n",
              "      <td>NaN</td>\n",
              "      <td>0.0</td>\n",
              "      <td>13.588567</td>\n",
              "      <td>0.0</td>\n",
              "      <td>0.0</td>\n",
              "      <td>1.0</td>\n",
              "      <td>10.0</td>\n",
              "      <td>0.0</td>\n",
              "      <td>23.779817</td>\n",
              "      <td>0.0</td>\n",
              "      <td>1.0</td>\n",
              "      <td>7925.0</td>\n",
              "      <td>298.680905</td>\n",
              "      <td>0.2134220235370156</td>\n",
              "      <td>0.16686234149068638</td>\n",
              "      <td>24.0</td>\n",
              "      <td>0.904523</td>\n",
              "      <td>0.230769</td>\n",
              "      <td>8.0</td>\n",
              "      <td>0.301508</td>\n",
              "      <td>11.0</td>\n",
              "      <td>13.0</td>\n",
              "      <td></td>\n",
              "      <td></td>\n",
              "      <td>7463.0</td>\n",
              "      <td>148.481910</td>\n",
              "      <td>7360.0</td>\n",
              "      <td>-0.296789</td>\n",
              "      <td>35.0</td>\n",
              "      <td>96.0</td>\n",
              "      <td>76.0</td>\n",
              "      <td>0.0</td>\n",
              "      <td>4.937186</td>\n",
              "      <td>3684.0</td>\n",
              "      <td>4055.0</td>\n",
              "      <td>-371.0</td>\n",
              "      <td>4912.0</td>\n",
              "      <td>6278.0</td>\n",
              "      <td>-1366.0</td>\n",
              "      <td>3679.0</td>\n",
              "      <td>3928.0</td>\n",
              "      <td>-249.0</td>\n",
              "      <td>60.0</td>\n",
              "      <td>64.0</td>\n",
              "      <td>-4.0</td>\n",
              "      <td>88.0</td>\n",
              "      <td>105.0</td>\n",
              "      <td>-17.0</td>\n",
              "    </tr>\n",
              "    <tr>\n",
              "      <th>2</th>\n",
              "      <td>1070340.0</td>\n",
              "      <td>https://matchhistory.euw.leagueoflegends.com/e...</td>\n",
              "      <td>WC</td>\n",
              "      <td>2019-W</td>\n",
              "      <td>43740.286146</td>\n",
              "      <td>PI-RR</td>\n",
              "      <td>1.0</td>\n",
              "      <td>9.19</td>\n",
              "      <td>3.0</td>\n",
              "      <td>Blue</td>\n",
              "      <td>Middle</td>\n",
              "      <td>Ceros</td>\n",
              "      <td>DetonatioN FocusMe</td>\n",
              "      <td>Nocturne</td>\n",
              "      <td>Qiyana</td>\n",
              "      <td>Gangplank</td>\n",
              "      <td>Akali</td>\n",
              "      <td>Elise</td>\n",
              "      <td>Olaf</td>\n",
              "      <td>26.533333</td>\n",
              "      <td>0.0</td>\n",
              "      <td>1.0</td>\n",
              "      <td>5.0</td>\n",
              "      <td>6.0</td>\n",
              "      <td>7.0</td>\n",
              "      <td>22.0</td>\n",
              "      <td>0.0</td>\n",
              "      <td>0.0</td>\n",
              "      <td>0.0</td>\n",
              "      <td>0.0</td>\n",
              "      <td>0.0</td>\n",
              "      <td>0.0</td>\n",
              "      <td>0.0</td>\n",
              "      <td>3.879983</td>\n",
              "      <td>0.037688</td>\n",
              "      <td>0.113065</td>\n",
              "      <td>1.092965</td>\n",
              "      <td>0.0</td>\n",
              "      <td>9.717567</td>\n",
              "      <td>1.0</td>\n",
              "      <td>2.0</td>\n",
              "      <td>0.0</td>\n",
              "      <td>0.0</td>\n",
              "      <td>0.0</td>\n",
              "      <td>0.0</td>\n",
              "      <td>0.0</td>\n",
              "      <td>0.0</td>\n",
              "      <td>0.0</td>\n",
              "      <td>0.0</td>\n",
              "      <td>0.0</td>\n",
              "      <td>NaN</td>\n",
              "      <td>0.0</td>\n",
              "      <td>13.588567</td>\n",
              "      <td>0.0</td>\n",
              "      <td>0.0</td>\n",
              "      <td>1.0</td>\n",
              "      <td>10.0</td>\n",
              "      <td>0.0</td>\n",
              "      <td>23.779817</td>\n",
              "      <td>0.0</td>\n",
              "      <td>1.0</td>\n",
              "      <td>7557.0</td>\n",
              "      <td>284.811558</td>\n",
              "      <td>0.20351170118223683</td>\n",
              "      <td>0.21010563052188422</td>\n",
              "      <td>13.0</td>\n",
              "      <td>0.489950</td>\n",
              "      <td>0.125000</td>\n",
              "      <td>1.0</td>\n",
              "      <td>0.037688</td>\n",
              "      <td>6.0</td>\n",
              "      <td>7.0</td>\n",
              "      <td></td>\n",
              "      <td></td>\n",
              "      <td>8484.0</td>\n",
              "      <td>186.961809</td>\n",
              "      <td>7700.0</td>\n",
              "      <td>-0.281729</td>\n",
              "      <td>186.0</td>\n",
              "      <td>6.0</td>\n",
              "      <td>4.0</td>\n",
              "      <td>0.0</td>\n",
              "      <td>7.236181</td>\n",
              "      <td>3926.0</td>\n",
              "      <td>3569.0</td>\n",
              "      <td>357.0</td>\n",
              "      <td>5487.0</td>\n",
              "      <td>6116.0</td>\n",
              "      <td>-629.0</td>\n",
              "      <td>4751.0</td>\n",
              "      <td>4533.0</td>\n",
              "      <td>218.0</td>\n",
              "      <td>88.0</td>\n",
              "      <td>85.0</td>\n",
              "      <td>3.0</td>\n",
              "      <td>131.0</td>\n",
              "      <td>150.0</td>\n",
              "      <td>-19.0</td>\n",
              "    </tr>\n",
              "    <tr>\n",
              "      <th>3</th>\n",
              "      <td>1070340.0</td>\n",
              "      <td>https://matchhistory.euw.leagueoflegends.com/e...</td>\n",
              "      <td>WC</td>\n",
              "      <td>2019-W</td>\n",
              "      <td>43740.286146</td>\n",
              "      <td>PI-RR</td>\n",
              "      <td>1.0</td>\n",
              "      <td>9.19</td>\n",
              "      <td>4.0</td>\n",
              "      <td>Blue</td>\n",
              "      <td>ADC</td>\n",
              "      <td>Yutapon</td>\n",
              "      <td>DetonatioN FocusMe</td>\n",
              "      <td>Lucian</td>\n",
              "      <td>Qiyana</td>\n",
              "      <td>Gangplank</td>\n",
              "      <td>Akali</td>\n",
              "      <td>Elise</td>\n",
              "      <td>Olaf</td>\n",
              "      <td>26.533333</td>\n",
              "      <td>0.0</td>\n",
              "      <td>3.0</td>\n",
              "      <td>4.0</td>\n",
              "      <td>1.0</td>\n",
              "      <td>7.0</td>\n",
              "      <td>22.0</td>\n",
              "      <td>1.0</td>\n",
              "      <td>0.0</td>\n",
              "      <td>0.0</td>\n",
              "      <td>0.0</td>\n",
              "      <td>0.0</td>\n",
              "      <td>0.0</td>\n",
              "      <td>0.0</td>\n",
              "      <td>3.879983</td>\n",
              "      <td>0.113065</td>\n",
              "      <td>0.414573</td>\n",
              "      <td>1.092965</td>\n",
              "      <td>0.0</td>\n",
              "      <td>9.717567</td>\n",
              "      <td>1.0</td>\n",
              "      <td>2.0</td>\n",
              "      <td>0.0</td>\n",
              "      <td>0.0</td>\n",
              "      <td>0.0</td>\n",
              "      <td>0.0</td>\n",
              "      <td>0.0</td>\n",
              "      <td>0.0</td>\n",
              "      <td>0.0</td>\n",
              "      <td>0.0</td>\n",
              "      <td>0.0</td>\n",
              "      <td>NaN</td>\n",
              "      <td>0.0</td>\n",
              "      <td>13.588567</td>\n",
              "      <td>0.0</td>\n",
              "      <td>0.0</td>\n",
              "      <td>1.0</td>\n",
              "      <td>10.0</td>\n",
              "      <td>0.0</td>\n",
              "      <td>23.779817</td>\n",
              "      <td>0.0</td>\n",
              "      <td>1.0</td>\n",
              "      <td>7369.0</td>\n",
              "      <td>277.726131</td>\n",
              "      <td>0.1984488191096868</td>\n",
              "      <td>0.30074288666954674</td>\n",
              "      <td>9.0</td>\n",
              "      <td>0.339196</td>\n",
              "      <td>0.086538</td>\n",
              "      <td>7.0</td>\n",
              "      <td>0.263819</td>\n",
              "      <td>3.0</td>\n",
              "      <td>4.0</td>\n",
              "      <td></td>\n",
              "      <td></td>\n",
              "      <td>10624.0</td>\n",
              "      <td>267.615075</td>\n",
              "      <td>10150.0</td>\n",
              "      <td>-0.215385</td>\n",
              "      <td>219.0</td>\n",
              "      <td>20.0</td>\n",
              "      <td>20.0</td>\n",
              "      <td>0.0</td>\n",
              "      <td>9.007538</td>\n",
              "      <td>3579.0</td>\n",
              "      <td>3969.0</td>\n",
              "      <td>-390.0</td>\n",
              "      <td>5313.0</td>\n",
              "      <td>7142.0</td>\n",
              "      <td>-1829.0</td>\n",
              "      <td>3526.0</td>\n",
              "      <td>3532.0</td>\n",
              "      <td>-6.0</td>\n",
              "      <td>87.0</td>\n",
              "      <td>76.0</td>\n",
              "      <td>11.0</td>\n",
              "      <td>119.0</td>\n",
              "      <td>134.0</td>\n",
              "      <td>-15.0</td>\n",
              "    </tr>\n",
              "    <tr>\n",
              "      <th>4</th>\n",
              "      <td>1070340.0</td>\n",
              "      <td>https://matchhistory.euw.leagueoflegends.com/e...</td>\n",
              "      <td>WC</td>\n",
              "      <td>2019-W</td>\n",
              "      <td>43740.286146</td>\n",
              "      <td>PI-RR</td>\n",
              "      <td>1.0</td>\n",
              "      <td>9.19</td>\n",
              "      <td>5.0</td>\n",
              "      <td>Blue</td>\n",
              "      <td>Support</td>\n",
              "      <td>Gaeng</td>\n",
              "      <td>DetonatioN FocusMe</td>\n",
              "      <td>Thresh</td>\n",
              "      <td>Qiyana</td>\n",
              "      <td>Gangplank</td>\n",
              "      <td>Akali</td>\n",
              "      <td>Elise</td>\n",
              "      <td>Olaf</td>\n",
              "      <td>26.533333</td>\n",
              "      <td>0.0</td>\n",
              "      <td>2.0</td>\n",
              "      <td>5.0</td>\n",
              "      <td>2.0</td>\n",
              "      <td>7.0</td>\n",
              "      <td>22.0</td>\n",
              "      <td>0.0</td>\n",
              "      <td>0.0</td>\n",
              "      <td>0.0</td>\n",
              "      <td>0.0</td>\n",
              "      <td>0.0</td>\n",
              "      <td>0.0</td>\n",
              "      <td>1.0</td>\n",
              "      <td>3.879983</td>\n",
              "      <td>0.075377</td>\n",
              "      <td>0.000000</td>\n",
              "      <td>1.092965</td>\n",
              "      <td>0.0</td>\n",
              "      <td>9.717567</td>\n",
              "      <td>1.0</td>\n",
              "      <td>2.0</td>\n",
              "      <td>0.0</td>\n",
              "      <td>0.0</td>\n",
              "      <td>0.0</td>\n",
              "      <td>0.0</td>\n",
              "      <td>0.0</td>\n",
              "      <td>0.0</td>\n",
              "      <td>0.0</td>\n",
              "      <td>0.0</td>\n",
              "      <td>0.0</td>\n",
              "      <td>NaN</td>\n",
              "      <td>0.0</td>\n",
              "      <td>13.588567</td>\n",
              "      <td>0.0</td>\n",
              "      <td>0.0</td>\n",
              "      <td>1.0</td>\n",
              "      <td>10.0</td>\n",
              "      <td>0.0</td>\n",
              "      <td>23.779817</td>\n",
              "      <td>0.0</td>\n",
              "      <td>1.0</td>\n",
              "      <td>2694.0</td>\n",
              "      <td>101.532663</td>\n",
              "      <td>0.07255002289069022</td>\n",
              "      <td>0.11544475786299374</td>\n",
              "      <td>47.0</td>\n",
              "      <td>1.771357</td>\n",
              "      <td>0.451923</td>\n",
              "      <td>8.0</td>\n",
              "      <td>0.301508</td>\n",
              "      <td>13.0</td>\n",
              "      <td>14.0</td>\n",
              "      <td></td>\n",
              "      <td></td>\n",
              "      <td>6249.0</td>\n",
              "      <td>102.728141</td>\n",
              "      <td>5450.0</td>\n",
              "      <td>-0.296875</td>\n",
              "      <td>12.0</td>\n",
              "      <td>2.0</td>\n",
              "      <td>2.0</td>\n",
              "      <td>0.0</td>\n",
              "      <td>0.527638</td>\n",
              "      <td>2088.0</td>\n",
              "      <td>2394.0</td>\n",
              "      <td>-306.0</td>\n",
              "      <td>3163.0</td>\n",
              "      <td>4319.0</td>\n",
              "      <td>-1156.0</td>\n",
              "      <td>2731.0</td>\n",
              "      <td>2376.0</td>\n",
              "      <td>355.0</td>\n",
              "      <td>4.0</td>\n",
              "      <td>3.0</td>\n",
              "      <td>1.0</td>\n",
              "      <td>6.0</td>\n",
              "      <td>5.0</td>\n",
              "      <td>1.0</td>\n",
              "    </tr>\n",
              "  </tbody>\n",
              "</table>\n",
              "</div>"
            ],
            "text/plain": [
              "      gameid                                                url league  \\\n",
              "0  1070340.0  https://matchhistory.euw.leagueoflegends.com/e...     WC   \n",
              "1  1070340.0  https://matchhistory.euw.leagueoflegends.com/e...     WC   \n",
              "2  1070340.0  https://matchhistory.euw.leagueoflegends.com/e...     WC   \n",
              "3  1070340.0  https://matchhistory.euw.leagueoflegends.com/e...     WC   \n",
              "4  1070340.0  https://matchhistory.euw.leagueoflegends.com/e...     WC   \n",
              "\n",
              "    split          date   week game  patchno  playerid  side position  \\\n",
              "0  2019-W  43740.286146  PI-RR  1.0     9.19       1.0  Blue      Top   \n",
              "1  2019-W  43740.286146  PI-RR  1.0     9.19       2.0  Blue   Jungle   \n",
              "2  2019-W  43740.286146  PI-RR  1.0     9.19       3.0  Blue   Middle   \n",
              "3  2019-W  43740.286146  PI-RR  1.0     9.19       4.0  Blue      ADC   \n",
              "4  2019-W  43740.286146  PI-RR  1.0     9.19       5.0  Blue  Support   \n",
              "\n",
              "    player                team  champion    ban1       ban2   ban3   ban4  \\\n",
              "0      Evi  DetonatioN FocusMe      Gnar  Qiyana  Gangplank  Akali  Elise   \n",
              "1    Steal  DetonatioN FocusMe      Ekko  Qiyana  Gangplank  Akali  Elise   \n",
              "2    Ceros  DetonatioN FocusMe  Nocturne  Qiyana  Gangplank  Akali  Elise   \n",
              "3  Yutapon  DetonatioN FocusMe    Lucian  Qiyana  Gangplank  Akali  Elise   \n",
              "4    Gaeng  DetonatioN FocusMe    Thresh  Qiyana  Gangplank  Akali  Elise   \n",
              "\n",
              "   ban5  gamelength  result    k    d    a  teamkills  teamdeaths doubles  \\\n",
              "0  Olaf   26.533333     0.0  0.0  4.0  4.0        7.0        22.0     0.0   \n",
              "1  Olaf   26.533333     0.0  1.0  4.0  5.0        7.0        22.0     0.0   \n",
              "2  Olaf   26.533333     0.0  1.0  5.0  6.0        7.0        22.0     0.0   \n",
              "3  Olaf   26.533333     0.0  3.0  4.0  1.0        7.0        22.0     1.0   \n",
              "4  Olaf   26.533333     0.0  2.0  5.0  2.0        7.0        22.0     0.0   \n",
              "\n",
              "  triples quadras pentas   fb  fbassist  fbvictim    fbtime       kpm  \\\n",
              "0     0.0     0.0    0.0  0.0       0.0       0.0  3.879983  0.000000   \n",
              "1     0.0     0.0    0.0  0.0       0.0       0.0  3.879983  0.037688   \n",
              "2     0.0     0.0    0.0  0.0       0.0       0.0  3.879983  0.037688   \n",
              "3     0.0     0.0    0.0  0.0       0.0       0.0  3.879983  0.113065   \n",
              "4     0.0     0.0    0.0  0.0       0.0       1.0  3.879983  0.075377   \n",
              "\n",
              "       okpm      ckpm   fd    fdtime  teamdragkills  oppdragkills  elementals  \\\n",
              "0  0.037688  1.092965  0.0  9.717567            1.0           2.0         0.0   \n",
              "1  0.263819  1.092965  1.0  9.717567            1.0           2.0         1.0   \n",
              "2  0.113065  1.092965  0.0  9.717567            1.0           2.0         0.0   \n",
              "3  0.414573  1.092965  0.0  9.717567            1.0           2.0         0.0   \n",
              "4  0.000000  1.092965  0.0  9.717567            1.0           2.0         0.0   \n",
              "\n",
              "   oppelementals  firedrakes  waterdrakes  earthdrakes  airdrakes  elders  \\\n",
              "0            0.0         0.0          0.0          0.0        0.0     0.0   \n",
              "1            2.0         0.0          0.0          0.0        1.0     0.0   \n",
              "2            0.0         0.0          0.0          0.0        0.0     0.0   \n",
              "3            0.0         0.0          0.0          0.0        0.0     0.0   \n",
              "4            0.0         0.0          0.0          0.0        0.0     0.0   \n",
              "\n",
              "   oppelders  herald  heraldtime   ft     fttime  firstmidouter  \\\n",
              "0        0.0     0.0         NaN  0.0  13.588567            0.0   \n",
              "1        0.0     0.0         NaN  0.0  13.588567            0.0   \n",
              "2        0.0     0.0         NaN  0.0  13.588567            0.0   \n",
              "3        0.0     0.0         NaN  0.0  13.588567            0.0   \n",
              "4        0.0     0.0         NaN  0.0  13.588567            0.0   \n",
              "\n",
              "   firsttothreetowers  teamtowerkills  opptowerkills  fbaron  fbarontime  \\\n",
              "0                 0.0             1.0           10.0     0.0   23.779817   \n",
              "1                 0.0             1.0           10.0     0.0   23.779817   \n",
              "2                 0.0             1.0           10.0     0.0   23.779817   \n",
              "3                 0.0             1.0           10.0     0.0   23.779817   \n",
              "4                 0.0             1.0           10.0     0.0   23.779817   \n",
              "\n",
              "   teambaronkills  oppbaronkills  dmgtochamps  dmgtochampsperminute  \\\n",
              "0             0.0            1.0      11588.0            436.733668   \n",
              "1             0.0            1.0       7925.0            298.680905   \n",
              "2             0.0            1.0       7557.0            284.811558   \n",
              "3             0.0            1.0       7369.0            277.726131   \n",
              "4             0.0            1.0       2694.0            101.532663   \n",
              "\n",
              "              dmgshare      earnedgoldshare  wards       wpm  wardshare  \\\n",
              "0  0.31206743328037057   0.2068443834548889   11.0  0.414573   0.105769   \n",
              "1   0.2134220235370156  0.16686234149068638   24.0  0.904523   0.230769   \n",
              "2  0.20351170118223683  0.21010563052188422   13.0  0.489950   0.125000   \n",
              "3   0.1984488191096868  0.30074288666954674    9.0  0.339196   0.086538   \n",
              "4  0.07255002289069022  0.11544475786299374   47.0  1.771357   0.451923   \n",
              "\n",
              "   wardkills      wcpm  visionwards  visionwardbuys visiblewardclearrate  \\\n",
              "0        4.0  0.150754          4.0             6.0                        \n",
              "1        8.0  0.301508         11.0            13.0                        \n",
              "2        1.0  0.037688          6.0             7.0                        \n",
              "3        7.0  0.263819          3.0             4.0                        \n",
              "4        8.0  0.301508         13.0            14.0                        \n",
              "\n",
              "  invisiblewardclearrate  totalgold   earnedgpm  goldspent      gspd  \\\n",
              "0                            8407.0  184.059799     8300.0 -0.151448   \n",
              "1                            7463.0  148.481910     7360.0 -0.296789   \n",
              "2                            8484.0  186.961809     7700.0 -0.281729   \n",
              "3                           10624.0  267.615075    10150.0 -0.215385   \n",
              "4                            6249.0  102.728141     5450.0 -0.296875   \n",
              "\n",
              "   minionkills  monsterkills  monsterkillsownjungle  monsterkillsenemyjungle  \\\n",
              "0        180.0           8.0                    4.0                      1.0   \n",
              "1         35.0          96.0                   76.0                      0.0   \n",
              "2        186.0           6.0                    4.0                      0.0   \n",
              "3        219.0          20.0                   20.0                      0.0   \n",
              "4         12.0           2.0                    2.0                      0.0   \n",
              "\n",
              "       cspm  goldat10  oppgoldat10  gdat10  goldat15  oppgoldat15  gdat15  \\\n",
              "0  7.085427    3078.0       3440.0  -362.0    4670.0       5468.0  -798.0   \n",
              "1  4.937186    3684.0       4055.0  -371.0    4912.0       6278.0 -1366.0   \n",
              "2  7.236181    3926.0       3569.0   357.0    5487.0       6116.0  -629.0   \n",
              "3  9.007538    3579.0       3969.0  -390.0    5313.0       7142.0 -1829.0   \n",
              "4  0.527638    2088.0       2394.0  -306.0    3163.0       4319.0 -1156.0   \n",
              "\n",
              "   xpat10  oppxpat10  xpdat10  csat10  oppcsat10  csdat10  csat15  oppcsat15  \\\n",
              "0  4530.0     5051.0   -521.0    76.0       90.0    -14.0   116.0      122.0   \n",
              "1  3679.0     3928.0   -249.0    60.0       64.0     -4.0    88.0      105.0   \n",
              "2  4751.0     4533.0    218.0    88.0       85.0      3.0   131.0      150.0   \n",
              "3  3526.0     3532.0     -6.0    87.0       76.0     11.0   119.0      134.0   \n",
              "4  2731.0     2376.0    355.0     4.0        3.0      1.0     6.0        5.0   \n",
              "\n",
              "   csdat15  \n",
              "0     -6.0  \n",
              "1    -17.0  \n",
              "2    -19.0  \n",
              "3    -15.0  \n",
              "4      1.0  "
            ]
          },
          "metadata": {
            "tags": []
          },
          "execution_count": 2
        }
      ]
    },
    {
      "cell_type": "markdown",
      "metadata": {
        "id": "t6_Gnc1SR6vR",
        "colab_type": "text"
      },
      "source": [
        "We have 98 columns. Teams and players   are in the same dataframe, they need to be seperated.Let's check the correlation and try to find what are the most effective things to do if one wants to win LoL games. Then we start with teams then players. "
      ]
    },
    {
      "cell_type": "code",
      "metadata": {
        "id": "I_8Uth5o2gry",
        "colab_type": "code",
        "colab": {
          "base_uri": "https://localhost:8080/",
          "height": 204
        },
        "outputId": "4e21be1d-ca84-4631-b8f1-026b2fb28ba9"
      },
      "source": [
        "rc = df.corr()\n",
        "rc[\"result\"].sort_values(ascending=False).head(10)\n"
      ],
      "execution_count": 3,
      "outputs": [
        {
          "output_type": "execute_result",
          "data": {
            "text/plain": [
              "result                1.000000\n",
              "teamtowerkills        0.894523\n",
              "fbaron                0.756522\n",
              "teambaronkills        0.696607\n",
              "teamdragkills         0.623822\n",
              "teamkills             0.614660\n",
              "firsttothreetowers    0.613445\n",
              "gspd                  0.521715\n",
              "firstmidouter         0.512605\n",
              "ft                    0.394958\n",
              "Name: result, dtype: float64"
            ]
          },
          "metadata": {
            "tags": []
          },
          "execution_count": 3
        }
      ]
    },
    {
      "cell_type": "code",
      "metadata": {
        "id": "6VeCzp1v4zVx",
        "colab_type": "code",
        "colab": {
          "base_uri": "https://localhost:8080/",
          "height": 362
        },
        "outputId": "d53e6575-cc51-4929-abc9-d74c6b1d12a5"
      },
      "source": [
        "rc[\"result\"].sort_values(ascending=False).head(10).plot(kind=\"bar\")"
      ],
      "execution_count": 4,
      "outputs": [
        {
          "output_type": "execute_result",
          "data": {
            "text/plain": [
              "<matplotlib.axes._subplots.AxesSubplot at 0x7f1bcfb5c898>"
            ]
          },
          "metadata": {
            "tags": []
          },
          "execution_count": 4
        },
        {
          "output_type": "display_data",
          "data": {
            "image/png": "[encoded data removed]",
            "text/plain": [
              "<Figure size 432x288 with 1 Axes>"
            ]
          },
          "metadata": {
            "tags": []
          }
        }
      ]
    },
    {
      "cell_type": "markdown",
      "metadata": {
        "id": "bMLyRE9q4PAg",
        "colab_type": "text"
      },
      "source": [
        "## **How to Win a LoL Game?**\n",
        "So the correlation table above shows that, if you want to win a game, focus the kill order below:\n",
        "- 1- Kill the most towers(ok obviously if u kill all towers, you will win)\n",
        "- 2- Kill the first baron(76% more chance to win)\n",
        "- 3- Kill the most barons\n",
        "- 4- Kill the most dragons\n",
        "- 5- Kill the most enemy(killing the baron and dragons are more important than killing more enemies)\n",
        "- 6- Kill three towers first\n",
        "- 7- Kill the outer mid tower before they kill yours.\n",
        "- 8- Kill the first tower.\n",
        "\n",
        "For example: If you are playing a jungle, you need to focus killing the dragon first, then gang and kill a tower(mid if possible) and another dragon, then focusing on killing all 3 outer towers while trying to gang and if you can manage to kill the first baron, you won the game! Don't focus on ganging a lot, this reciepe is written by the bests."
      ]
    },
    {
      "cell_type": "code",
      "metadata": {
        "id": "uvOK6_ngRq_E",
        "colab_type": "code",
        "colab": {}
      },
      "source": [
        "teamdf = df.loc[df['position']=='Team',:]"
      ],
      "execution_count": 0,
      "outputs": []
    },
    {
      "cell_type": "code",
      "metadata": {
        "id": "dHwPyJkmTX-S",
        "colab_type": "code",
        "colab": {}
      },
      "source": [
        "playersdf = df.loc[df['position']!='Team',:]"
      ],
      "execution_count": 0,
      "outputs": []
    },
    {
      "cell_type": "code",
      "metadata": {
        "id": "RHKuEe1OTtSU",
        "colab_type": "code",
        "outputId": "301409e4-a06a-4877-b206-3d15cfb9ae9e",
        "colab": {
          "base_uri": "https://localhost:8080/",
          "height": 34
        }
      },
      "source": [
        "print(int((teamdf.shape[0]/2)),'matches played')"
      ],
      "execution_count": 7,
      "outputs": [
        {
          "output_type": "stream",
          "text": [
            "119 matches played\n"
          ],
          "name": "stdout"
        }
      ]
    },
    {
      "cell_type": "markdown",
      "metadata": {
        "id": "Zk0bCI4JT_SK",
        "colab_type": "text"
      },
      "source": [
        "Bans are seperated as 5 bans so they need to be melted into one ban column."
      ]
    },
    {
      "cell_type": "code",
      "metadata": {
        "id": "1Yq0Ar-_T4gp",
        "colab_type": "code",
        "outputId": "c1ca7d34-2adf-4a2c-a1d2-405262b3ccf4",
        "colab": {
          "base_uri": "https://localhost:8080/",
          "height": 204
        }
      },
      "source": [
        "bans = teamdf[['ban1','ban2','ban3','ban4','ban5']].melt()\n",
        "bans.head()"
      ],
      "execution_count": 8,
      "outputs": [
        {
          "output_type": "execute_result",
          "data": {
            "text/html": [
              "<div>\n",
              "<style scoped>\n",
              "    .dataframe tbody tr th:only-of-type {\n",
              "        vertical-align: middle;\n",
              "    }\n",
              "\n",
              "    .dataframe tbody tr th {\n",
              "        vertical-align: top;\n",
              "    }\n",
              "\n",
              "    .dataframe thead th {\n",
              "        text-align: right;\n",
              "    }\n",
              "</style>\n",
              "<table border=\"1\" class=\"dataframe\">\n",
              "  <thead>\n",
              "    <tr style=\"text-align: right;\">\n",
              "      <th></th>\n",
              "      <th>variable</th>\n",
              "      <th>value</th>\n",
              "    </tr>\n",
              "  </thead>\n",
              "  <tbody>\n",
              "    <tr>\n",
              "      <th>0</th>\n",
              "      <td>ban1</td>\n",
              "      <td>Qiyana</td>\n",
              "    </tr>\n",
              "    <tr>\n",
              "      <th>1</th>\n",
              "      <td>ban1</td>\n",
              "      <td>Heimerdinger</td>\n",
              "    </tr>\n",
              "    <tr>\n",
              "      <th>2</th>\n",
              "      <td>ban1</td>\n",
              "      <td>Syndra</td>\n",
              "    </tr>\n",
              "    <tr>\n",
              "      <th>3</th>\n",
              "      <td>ban1</td>\n",
              "      <td>Pantheon</td>\n",
              "    </tr>\n",
              "    <tr>\n",
              "      <th>4</th>\n",
              "      <td>ban1</td>\n",
              "      <td>Qiyana</td>\n",
              "    </tr>\n",
              "  </tbody>\n",
              "</table>\n",
              "</div>"
            ],
            "text/plain": [
              "  variable         value\n",
              "0     ban1        Qiyana\n",
              "1     ban1  Heimerdinger\n",
              "2     ban1        Syndra\n",
              "3     ban1      Pantheon\n",
              "4     ban1        Qiyana"
            ]
          },
          "metadata": {
            "tags": []
          },
          "execution_count": 8
        }
      ]
    },
    {
      "cell_type": "markdown",
      "metadata": {
        "id": "dfpd_VOEULv5",
        "colab_type": "text"
      },
      "source": [
        "Now let's see what is the most banned champions"
      ]
    },
    {
      "cell_type": "code",
      "metadata": {
        "id": "fYFkN3wJUHWY",
        "colab_type": "code",
        "outputId": "3077767b-40b3-4301-99a3-cef24d595597",
        "colab": {
          "base_uri": "https://localhost:8080/",
          "height": 102
        }
      },
      "source": [
        "top5bans = bans['value'].value_counts().nlargest(5)\n",
        "for i in range (0,top5bans.shape[0]):\n",
        "    print(top5bans.index[i],'was banned',top5bans[i],'times, which is',str(\"%.2f\" %((top5bans[i]/119)*100))+'% of the matches.')"
      ],
      "execution_count": 9,
      "outputs": [
        {
          "output_type": "stream",
          "text": [
            "Pantheon was banned 118 times, which is 99.16% of the matches.\n",
            "Qiyana was banned 86 times, which is 72.27% of the matches.\n",
            "Syndra was banned 66 times, which is 55.46% of the matches.\n",
            "Renekton was banned 61 times, which is 51.26% of the matches.\n",
            "Akali was banned 54 times, which is 45.38% of the matches.\n"
          ],
          "name": "stdout"
        }
      ]
    },
    {
      "cell_type": "code",
      "metadata": {
        "id": "DiaAJm2UUPJz",
        "colab_type": "code",
        "outputId": "78e2fea5-fa5d-43b8-f740-74e745bf6cfa",
        "colab": {
          "base_uri": "https://localhost:8080/",
          "height": 102
        }
      },
      "source": [
        "top5picks = playersdf['champion'].value_counts().nlargest(5)\n",
        "for i in range (0,top5picks.shape[0]):\n",
        "    print(top5picks.index[i],'was picked',top5picks[i],'times, which is',str(\"%.2f\" %((top5picks[i]/119)*100))+'% of the matches.')"
      ],
      "execution_count": 10,
      "outputs": [
        {
          "output_type": "stream",
          "text": [
            "Kai'Sa was picked 71 times, which is 59.66% of the matches.\n",
            "Lee Sin was picked 57 times, which is 47.90% of the matches.\n",
            "Xayah was picked 56 times, which is 47.06% of the matches.\n",
            "Nautilus was picked 52 times, which is 43.70% of the matches.\n",
            "Gragas was picked 49 times, which is 41.18% of the matches.\n"
          ],
          "name": "stdout"
        }
      ]
    },
    {
      "cell_type": "code",
      "metadata": {
        "id": "xNXCeLXGUVjn",
        "colab_type": "code",
        "colab": {}
      },
      "source": [
        "top = playersdf.loc[playersdf['position']=='Top']\n",
        "mid = playersdf.loc[playersdf['position']=='Middle']\n",
        "adc = playersdf.loc[playersdf['position']=='ADC']\n",
        "support = playersdf.loc[playersdf['position']=='Support']\n",
        "jungle = playersdf.loc[playersdf['position']=='Jungle']"
      ],
      "execution_count": 0,
      "outputs": []
    },
    {
      "cell_type": "code",
      "metadata": {
        "id": "NeHqNitdUadz",
        "colab_type": "code",
        "outputId": "b667bb9f-d6f9-487c-c581-be9eccbe702b",
        "colab": {
          "base_uri": "https://localhost:8080/",
          "height": 282
        }
      },
      "source": [
        "print('Top 5 picked Top champions:')\n",
        "top['champion'].value_counts().nlargest(5).plot(kind=\"pie\")"
      ],
      "execution_count": 44,
      "outputs": [
        {
          "output_type": "stream",
          "text": [
            "Top 5 picked Top champions:\n"
          ],
          "name": "stdout"
        },
        {
          "output_type": "execute_result",
          "data": {
            "text/plain": [
              "<matplotlib.axes._subplots.AxesSubplot at 0x7f1bcde9f5c0>"
            ]
          },
          "metadata": {
            "tags": []
          },
          "execution_count": 44
        },
        {
          "output_type": "display_data",
          "data": {
            "image/png": "[encoded data removed]",
            "text/plain": [
              "<Figure size 432x288 with 1 Axes>"
            ]
          },
          "metadata": {
            "tags": []
          }
        }
      ]
    },
    {
      "cell_type": "code",
      "metadata": {
        "id": "M3ucFRnDV_Ut",
        "colab_type": "code",
        "outputId": "7e635c12-a6c2-422e-e55c-ea380a96d4b5",
        "colab": {
          "base_uri": "https://localhost:8080/",
          "height": 282
        }
      },
      "source": [
        "print('Top 5 picked Mid champions:')\n",
        "mid['champion'].value_counts().nlargest(5).plot(kind=\"pie\")"
      ],
      "execution_count": 45,
      "outputs": [
        {
          "output_type": "stream",
          "text": [
            "Top 5 picked Mid champions:\n"
          ],
          "name": "stdout"
        },
        {
          "output_type": "execute_result",
          "data": {
            "text/plain": [
              "<matplotlib.axes._subplots.AxesSubplot at 0x7f1bcde04668>"
            ]
          },
          "metadata": {
            "tags": []
          },
          "execution_count": 45
        },
        {
          "output_type": "display_data",
          "data": {
            "image/png": "[encoded data removed]",
            "text/plain": [
              "<Figure size 432x288 with 1 Axes>"
            ]
          },
          "metadata": {
            "tags": []
          }
        }
      ]
    },
    {
      "cell_type": "code",
      "metadata": {
        "id": "aiDEO0TLUfxE",
        "colab_type": "code",
        "outputId": "06817f88-1138-4b23-ee7e-29bd272d2580",
        "colab": {
          "base_uri": "https://localhost:8080/",
          "height": 282
        }
      },
      "source": [
        "print('Top 5 picked ADC champions:')\n",
        "adc['champion'].value_counts().nlargest(5).plot(kind=\"pie\")"
      ],
      "execution_count": 46,
      "outputs": [
        {
          "output_type": "stream",
          "text": [
            "Top 5 picked ADC champions:\n"
          ],
          "name": "stdout"
        },
        {
          "output_type": "execute_result",
          "data": {
            "text/plain": [
              "<matplotlib.axes._subplots.AxesSubplot at 0x7f1bcddcd978>"
            ]
          },
          "metadata": {
            "tags": []
          },
          "execution_count": 46
        },
        {
          "output_type": "display_data",
          "data": {
            "image/png": "[encoded data removed]",
            "text/plain": [
              "<Figure size 432x288 with 1 Axes>"
            ]
          },
          "metadata": {
            "tags": []
          }
        }
      ]
    },
    {
      "cell_type": "code",
      "metadata": {
        "id": "QVaMDpQ1Usp6",
        "colab_type": "code",
        "outputId": "894838d9-e92e-45bf-d872-536e013a280f",
        "colab": {
          "base_uri": "https://localhost:8080/",
          "height": 282
        }
      },
      "source": [
        "print('Top 5 picked Support champions:')\n",
        "support['champion'].value_counts().nlargest(5).plot(kind=\"pie\")"
      ],
      "execution_count": 47,
      "outputs": [
        {
          "output_type": "stream",
          "text": [
            "Top 5 picked Support champions:\n"
          ],
          "name": "stdout"
        },
        {
          "output_type": "execute_result",
          "data": {
            "text/plain": [
              "<matplotlib.axes._subplots.AxesSubplot at 0x7f1bcdd96eb8>"
            ]
          },
          "metadata": {
            "tags": []
          },
          "execution_count": 47
        },
        {
          "output_type": "display_data",
          "data": {
            "image/png": "[encoded data removed]",
            "text/plain": [
              "<Figure size 432x288 with 1 Axes>"
            ]
          },
          "metadata": {
            "tags": []
          }
        }
      ]
    },
    {
      "cell_type": "code",
      "metadata": {
        "id": "jt60K7AHVFIO",
        "colab_type": "code",
        "outputId": "d3bc20a4-70ce-49b7-8107-64e073ec3b27",
        "colab": {
          "base_uri": "https://localhost:8080/",
          "height": 282
        }
      },
      "source": [
        "print('Top 5 picked Jungle champions:')\n",
        "jungle['champion'].value_counts().nlargest(5).plot(kind=\"pie\")"
      ],
      "execution_count": 48,
      "outputs": [
        {
          "output_type": "stream",
          "text": [
            "Top 5 picked Jungle champions:\n"
          ],
          "name": "stdout"
        },
        {
          "output_type": "execute_result",
          "data": {
            "text/plain": [
              "<matplotlib.axes._subplots.AxesSubplot at 0x7f1bcdd70400>"
            ]
          },
          "metadata": {
            "tags": []
          },
          "execution_count": 48
        },
        {
          "output_type": "display_data",
          "data": {
            "image/png": "[encoded data removed]",
            "text/plain": [
              "<Figure size 432x288 with 1 Axes>"
            ]
          },
          "metadata": {
            "tags": []
          }
        }
      ]
    },
    {
      "cell_type": "code",
      "metadata": {
        "id": "BVGID9OgVJTH",
        "colab_type": "code",
        "outputId": "2edc230e-18f4-4968-f863-8c9eca9c28a7",
        "colab": {
          "base_uri": "https://localhost:8080/",
          "height": 68
        }
      },
      "source": [
        "max_time = playersdf['gamelength'].max()\n",
        "max_time = round(max_time,1)\n",
        "min_time = playersdf['gamelength'].min()\n",
        "min_time = round(min_time,1)\n",
        "avg_time = playersdf['gamelength'].mean()\n",
        "avg_time = round(avg_time,1)\n",
        "print (\"Longest game took \" + str(max_time) + \" minutes.\")\n",
        "print (\"Shortest game took \" + str(min_time) + \" minutes.\")\n",
        "print (\"Average game took \" + str(avg_time) + \" minutes.\")"
      ],
      "execution_count": 17,
      "outputs": [
        {
          "output_type": "stream",
          "text": [
            "Longest game took 63.4 minutes.\n",
            "Shortest game took 22.7 minutes.\n",
            "Average game took 33.3 minutes.\n"
          ],
          "name": "stdout"
        }
      ]
    },
    {
      "cell_type": "code",
      "metadata": {
        "id": "QLNRqNAAWTHo",
        "colab_type": "code",
        "outputId": "a1b9c523-91b6-49a8-939b-6e586b6a760a",
        "colab": {
          "base_uri": "https://localhost:8080/",
          "height": 51
        }
      },
      "source": [
        "maxkills = teamdf.loc[teamdf['teamkills']==teamdf['teamkills'].max()]\n",
        "minkills = teamdf.loc[teamdf['teamkills']==teamdf['teamkills'].min()]\n",
        "print('Max kills for a team in a single game is {} for {} against {}'.format(\n",
        "    maxkills['teamkills'].tolist()[0],maxkills['team'].tolist()[0],teamdf.loc[teamdf['gameid']==maxkills['gameid'].tolist()[0]]['team'].tolist()[0]))\n",
        "print('Min kills for a team in a single game is {} for {} against {}'.format(\n",
        "    minkills['teamkills'].tolist()[0],minkills['team'].tolist()[0],teamdf.loc[teamdf['gameid']==minkills['gameid'].tolist()[0]]['team'].tolist()[1]))"
      ],
      "execution_count": 18,
      "outputs": [
        {
          "output_type": "stream",
          "text": [
            "Max kills for a team in a single game is 34.0 for Funplus Phoenix against Invictus Gaming\n",
            "Min kills for a team in a single game is 1.0 for Mammoth against Unicorns of Love\n"
          ],
          "name": "stdout"
        }
      ]
    },
    {
      "cell_type": "code",
      "metadata": {
        "id": "XF_zEp2XYW1_",
        "colab_type": "code",
        "outputId": "28c33cc0-1797-4b2a-b5e8-ebbdb2e05e27",
        "colab": {
          "base_uri": "https://localhost:8080/",
          "height": 51
        }
      },
      "source": [
        "maxdeaths = teamdf.loc[teamdf['teamdeaths']==teamdf['teamdeaths'].max()]\n",
        "mindeaths = teamdf.loc[teamdf['teamdeaths']==teamdf['teamdeaths'].min()]\n",
        "print('Max deaths for a team in a single game is {} for {} against {}'.format(\n",
        "    maxdeaths['teamdeaths'].tolist()[0],maxdeaths['team'].tolist()[0],teamdf.loc[teamdf['gameid']==maxdeaths['gameid'].tolist()[0]]['team'].tolist()[1]))\n",
        "print('Min deaths for a team in a single game is {} for {} against {}'.format(\n",
        "    mindeaths['teamdeaths'].tolist()[0],mindeaths['team'].tolist()[0],teamdf.loc[teamdf['gameid']==mindeaths['gameid'].tolist()[0]]['team'].tolist()[1]))"
      ],
      "execution_count": 19,
      "outputs": [
        {
          "output_type": "stream",
          "text": [
            "Max deaths for a team in a single game is 34.0 for Invictus Gaming against Funplus Phoenix\n",
            "Min deaths for a team in a single game is 1.0 for Griffin against Cloud9\n"
          ],
          "name": "stdout"
        }
      ]
    },
    {
      "cell_type": "code",
      "metadata": {
        "id": "WAXt80kg6_A5",
        "colab_type": "code",
        "colab": {}
      },
      "source": [
        "player = playersdf[['player','doubles','triples','quadras','pentas','k','d','a','fb','fbvictim','fbassist','fbtime']]\n"
      ],
      "execution_count": 0,
      "outputs": []
    },
    {
      "cell_type": "code",
      "metadata": {
        "id": "sg5p_PAtZErf",
        "colab_type": "code",
        "outputId": "ce25c4c6-5eda-4f3d-cdaa-76a7e383df09",
        "colab": {
          "base_uri": "https://localhost:8080/",
          "height": 119
        }
      },
      "source": [
        "playerkills = player.groupby('player')['k'].sum()\n",
        "playerdeaths = player.groupby('player')['d'].sum()\n",
        "playerassists = player.groupby('player')['a'].sum()\n",
        "print(\"Max kills : {} by {}\".format(playerkills.max(),playerkills.loc[playerkills == playerkills.max()].index[0]))\n",
        "print(\"Max deaths : {} by {}\".format(playerdeaths.max(),playerdeaths.loc[playerdeaths == playerdeaths.max()].index[0]))\n",
        "print(\"Max assists : {} by {}\".format(playerassists.max(),playerassists.loc[playerassists == playerassists.max()].index[0]))\n",
        "print(\"Min kills : {} by {}\".format(playerkills.min(),playerkills.loc[playerkills == playerkills.min()].index[0]))\n",
        "print(\"Min deaths : {} by {}\".format(playerdeaths.min(),playerdeaths.loc[playerdeaths == playerdeaths.min()].index[0]))\n",
        "print(\"Min assists : {} by {}\".format(playerassists.min(),playerassists.loc[playerassists == playerassists.min()].index[0]))"
      ],
      "execution_count": 21,
      "outputs": [
        {
          "output_type": "stream",
          "text": [
            "Max kills : 110.0 by Lwx\n",
            "Max deaths : 70.0 by Humanoid\n",
            "Max assists : 213.0 by Crisp\n",
            "Min kills : 1.0 by Apex\n",
            "Min deaths : 0.0 by Deftly\n",
            "Min assists : 0.0 by Hieu3\n"
          ],
          "name": "stdout"
        }
      ]
    },
    {
      "cell_type": "code",
      "metadata": {
        "id": "nRl2ymAQZMcm",
        "colab_type": "code",
        "outputId": "ad6f3241-5007-4989-9ee1-62665343e426",
        "colab": {
          "base_uri": "https://localhost:8080/",
          "height": 51
        }
      },
      "source": [
        "LowestFBt = player['fbtime'].min()\n",
        "HighestFBt = player['fbtime'].max()\n",
        "lowteam = teamdf.loc[teamdf['fbtime']==player['fbtime'].min()]['team'].tolist()\n",
        "highteam = teamdf.loc[teamdf['fbtime']==player['fbtime'].max()]['team'].tolist()\n",
        "lowkiller = playersdf.loc[(playersdf['fbtime']==player['fbtime'].min()) & (playersdf['fb']==1) ]['player'].tolist()[0]\n",
        "lowvictim = playersdf.loc[(playersdf['fbtime']==player['fbtime'].min()) & (playersdf['fbvictim']==1)]['player'].tolist()[0]\n",
        "highkiller = playersdf.loc[(playersdf['fbtime']==player['fbtime'].max()) & (playersdf['fb']==1) ]['player'].tolist()[0]\n",
        "highvictim = playersdf.loc[(playersdf['fbtime']==player['fbtime'].max()) & (playersdf['fbvictim']==1)]['player'].tolist()[0]\n",
        "print('Fastest First Blood happend after',\"%.2f\" %LowestFBt,'minutes in the match between {} and {}, {} was killed by {}'.format(\n",
        "    lowteam[0],lowteam[1],lowvictim,lowkiller))\n",
        "print('Slowest First Blood happend after',\"%.2f\" %HighestFBt,'minutes in the match between {} and {}, {} was killed by {}'.format(\n",
        "    highteam[0],highteam[1],highvictim,highkiller))"
      ],
      "execution_count": 22,
      "outputs": [
        {
          "output_type": "stream",
          "text": [
            "Fastest First Blood happend after 0.70 minutes in the match between Clutch Gaming and Fnatic, Vulcan was killed by Bwipo\n",
            "Slowest First Blood happend after 15.36 minutes in the match between Clutch Gaming and Mammoth, Fudge was killed by Lira\n"
          ],
          "name": "stdout"
        }
      ]
    },
    {
      "cell_type": "code",
      "metadata": {
        "id": "huLzlGH7aLqs",
        "colab_type": "code",
        "outputId": "b791ec24-9834-4cba-df20-b1c421783f51",
        "colab": {
          "base_uri": "https://localhost:8080/",
          "height": 68
        }
      },
      "source": [
        "kpmteamh = teamdf.loc[teamdf['kpm']==teamdf['kpm'].max()]['team'].tolist()[0]\n",
        "kpmh = \"%.2f\" %teamdf.loc[teamdf['kpm']==teamdf['kpm'].max()]['kpm'].tolist()[0]\n",
        "kpmteaml = teamdf.loc[teamdf['kpm']==teamdf['kpm'].min()]['team'].tolist()[0]\n",
        "kpml = \"%.2f\" %teamdf.loc[teamdf['kpm']==teamdf['kpm'].min()]['kpm'].tolist()[0]\n",
        "gameh = teamdf.loc[teamdf['kpm']==teamdf['kpm'].max()]['gameid'].tolist()[0]\n",
        "gamel = teamdf.loc[teamdf['kpm']==teamdf['kpm'].min()]['gameid'].tolist()[0]\n",
        "opkpmteamh = teamdf.loc[teamdf['gameid']==gameh]['team'].tolist()[1]\n",
        "opkpmteaml = teamdf.loc[teamdf['gameid']==gamel]['team'].tolist()[1]\n",
        "print('Highest Kill Per Minute Team is {} with {} KPM against {}.'.format(kpmteamh,kpmh,opkpmteamh))\n",
        "print('Lowest Kill Per Minute Team is {} with {} KPM against {}.'.format(kpmteaml,kpml,opkpmteaml))\n",
        "print('Average Kill Per Minute for teams in all matches is {} KPM.'.format(\"%.2f\" %teamdf['kpm'].mean()))"
      ],
      "execution_count": 23,
      "outputs": [
        {
          "output_type": "stream",
          "text": [
            "Highest Kill Per Minute Team is G2 Esports with 1.06 KPM against Cloud9.\n",
            "Lowest Kill Per Minute Team is Mammoth with 0.04 KPM against Unicorns of Love.\n",
            "Average Kill Per Minute for teams in all matches is 0.40 KPM.\n"
          ],
          "name": "stdout"
        }
      ]
    },
    {
      "cell_type": "code",
      "metadata": {
        "id": "6-tDC_tFad9d",
        "colab_type": "code",
        "outputId": "78ae2d2f-0cce-4951-cb4e-2922d3e468d3",
        "colab": {
          "base_uri": "https://localhost:8080/",
          "height": 68
        }
      },
      "source": [
        "kpmplayerh = playersdf.loc[playersdf['kpm']==playersdf['kpm'].max()]['player'].tolist()[0]\n",
        "pkpmh = \"%.2f\" %playersdf.loc[playersdf['kpm']==playersdf['kpm'].max()]['kpm'].tolist()[0]\n",
        "kpmplayerl = playersdf.loc[playersdf['kpm']==playersdf['kpm'].min()]['player'].tolist()[0]\n",
        "pkpml = \"%.2f\" %playersdf.loc[playersdf['kpm']==playersdf['kpm'].min()]['kpm'].tolist()[0]\n",
        "pgameh = playersdf.loc[playersdf['kpm']==playersdf['kpm'].max()]['gameid'].tolist()[0]\n",
        "pgamel = playersdf.loc[playersdf['kpm']==playersdf['kpm'].min()]['gameid'].tolist()[0]\n",
        "opkpmteamh = teamdf.loc[teamdf['gameid']==pgameh]['team'].tolist()[0]\n",
        "opkpmteaml = teamdf.loc[teamdf['gameid']==pgamel]['team'].tolist()[1]\n",
        "print(\"Highest Kill Per Minute Player is {} with {} KPM against {}.\".format(kpmplayerh,pkpmh,opkpmteamh))\n",
        "print(\"Lowest Kill Per Minute Player is {} with {} KPM against {}.\".format(kpmplayerl,pkpml,opkpmteaml))\n",
        "print('Average Kill Per Minute for players in all matches is {} KPM.'.format(\"%.2f\" %playersdf['kpm'].mean()))"
      ],
      "execution_count": 24,
      "outputs": [
        {
          "output_type": "stream",
          "text": [
            "Highest Kill Per Minute Player is Lwx with 0.45 KPM against Fnatic.\n",
            "Lowest Kill Per Minute Player is Evi with 0.00 KPM against Splyce.\n",
            "Average Kill Per Minute for players in all matches is 0.08 KPM.\n"
          ],
          "name": "stdout"
        }
      ]
    },
    {
      "cell_type": "code",
      "metadata": {
        "id": "82VWZ88iajOA",
        "colab_type": "code",
        "outputId": "44ff8c17-cb50-411e-9511-98c3a4a897bb",
        "colab": {
          "base_uri": "https://localhost:8080/",
          "height": 85
        }
      },
      "source": [
        "avgkpmt = teamdf.groupby('team')['kpm'].mean()\n",
        "avgkpmp = playersdf.groupby('player')['kpm'].mean()\n",
        "print('The Highest Average KPM Team is {} with {} KPM.'.format(avgkpmt.loc[avgkpmt == avgkpmt.max()].index.tolist()[0],\"%.2f\" %avgkpmt.max()))\n",
        "print('The Lowest Average KPM Team is {} with {} KPM.'.format(avgkpmt.loc[avgkpmt == avgkpmt.min()].index.tolist()[0],\"%.2f\" %avgkpmt.min()))\n",
        "print('The Highest Average KPM Player is {} with {} KPM.'.format(avgkpmp.loc[avgkpmp == avgkpmp.max()].index.tolist()[0],\"%.2f\" %avgkpmp.max()))\n",
        "print('The Lowest Average KPM Player is {} with {} KPM.'.format(avgkpmp.loc[avgkpmp == avgkpmp.min()].index.tolist()[0],\"%.2f\" %avgkpmp.min()))"
      ],
      "execution_count": 25,
      "outputs": [
        {
          "output_type": "stream",
          "text": [
            "The Highest Average KPM Team is Funplus Phoenix with 0.61 KPM.\n",
            "The Lowest Average KPM Team is AHQ e-Sports Club with 0.22 KPM.\n",
            "The Highest Average KPM Player is Lwx with 0.20 KPM.\n",
            "The Lowest Average KPM Player is Ysera with 0.00 KPM.\n"
          ],
          "name": "stdout"
        }
      ]
    },
    {
      "cell_type": "code",
      "metadata": {
        "id": "WPViUboAaoFU",
        "colab_type": "code",
        "outputId": "8087b242-519b-4653-b54f-8921fccd1ebf",
        "colab": {
          "base_uri": "https://localhost:8080/",
          "height": 102
        }
      },
      "source": [
        "rules = ['Top','Jungle','Middle','ADC','Support']\n",
        "for i in rules:\n",
        "    kda = playersdf.loc[playersdf['position']==i].groupby(['player'])['k','d','a'].sum()\n",
        "    kda['kda'] = (kda['k']+kda['a'])/kda['d'] \n",
        "    print('{} has the highest KDA as {} with {} KDA.'.format(kda.loc[kda['kda']==kda['kda'].max()].index.tolist()[0],i,\"%.2f\" %kda['kda'].max()))"
      ],
      "execution_count": 26,
      "outputs": [
        {
          "output_type": "stream",
          "text": [
            "ShowMaker has the highest KDA as Top with 10.00 KDA.\n",
            "Broxah has the highest KDA as Jungle with 5.41 KDA.\n",
            "ShowMaker has the highest KDA as Middle with 7.50 KDA.\n",
            "Deftly has the highest KDA as ADC with inf KDA.\n",
            "Lehends has the highest KDA as Support with 8.44 KDA.\n"
          ],
          "name": "stdout"
        }
      ]
    },
    {
      "cell_type": "code",
      "metadata": {
        "id": "bkRiloPZa2oY",
        "colab_type": "code",
        "outputId": "9748f00f-9a5e-48b8-e41e-d3e5d61c4f61",
        "colab": {
          "base_uri": "https://localhost:8080/",
          "height": 235
        }
      },
      "source": [
        "kda2 = playersdf.loc[playersdf['position']=='Top'].groupby(['player'])['k','d','a'].sum()\n",
        "kda2['kda'] = (kda2['k']+kda2['a'])/kda2['d'] \n",
        "kda2.sort_values(by=['kda'],ascending=False).head()"
      ],
      "execution_count": 27,
      "outputs": [
        {
          "output_type": "execute_result",
          "data": {
            "text/html": [
              "<div>\n",
              "<style scoped>\n",
              "    .dataframe tbody tr th:only-of-type {\n",
              "        vertical-align: middle;\n",
              "    }\n",
              "\n",
              "    .dataframe tbody tr th {\n",
              "        vertical-align: top;\n",
              "    }\n",
              "\n",
              "    .dataframe thead th {\n",
              "        text-align: right;\n",
              "    }\n",
              "</style>\n",
              "<table border=\"1\" class=\"dataframe\">\n",
              "  <thead>\n",
              "    <tr style=\"text-align: right;\">\n",
              "      <th></th>\n",
              "      <th>k</th>\n",
              "      <th>d</th>\n",
              "      <th>a</th>\n",
              "      <th>kda</th>\n",
              "    </tr>\n",
              "    <tr>\n",
              "      <th>player</th>\n",
              "      <th></th>\n",
              "      <th></th>\n",
              "      <th></th>\n",
              "      <th></th>\n",
              "    </tr>\n",
              "  </thead>\n",
              "  <tbody>\n",
              "    <tr>\n",
              "      <th>ShowMaker</th>\n",
              "      <td>5.0</td>\n",
              "      <td>1.0</td>\n",
              "      <td>5.0</td>\n",
              "      <td>10.000000</td>\n",
              "    </tr>\n",
              "    <tr>\n",
              "      <th>GimGoon</th>\n",
              "      <td>51.0</td>\n",
              "      <td>39.0</td>\n",
              "      <td>117.0</td>\n",
              "      <td>4.307692</td>\n",
              "    </tr>\n",
              "    <tr>\n",
              "      <th>Khan</th>\n",
              "      <td>60.0</td>\n",
              "      <td>34.0</td>\n",
              "      <td>67.0</td>\n",
              "      <td>3.735294</td>\n",
              "    </tr>\n",
              "    <tr>\n",
              "      <th>Langx</th>\n",
              "      <td>15.0</td>\n",
              "      <td>13.0</td>\n",
              "      <td>26.0</td>\n",
              "      <td>3.153846</td>\n",
              "    </tr>\n",
              "    <tr>\n",
              "      <th>Nuguri</th>\n",
              "      <td>45.0</td>\n",
              "      <td>45.0</td>\n",
              "      <td>96.0</td>\n",
              "      <td>3.133333</td>\n",
              "    </tr>\n",
              "  </tbody>\n",
              "</table>\n",
              "</div>"
            ],
            "text/plain": [
              "              k     d      a        kda\n",
              "player                                 \n",
              "ShowMaker   5.0   1.0    5.0  10.000000\n",
              "GimGoon    51.0  39.0  117.0   4.307692\n",
              "Khan       60.0  34.0   67.0   3.735294\n",
              "Langx      15.0  13.0   26.0   3.153846\n",
              "Nuguri     45.0  45.0   96.0   3.133333"
            ]
          },
          "metadata": {
            "tags": []
          },
          "execution_count": 27
        }
      ]
    },
    {
      "cell_type": "code",
      "metadata": {
        "id": "Lt3RYIZea6-s",
        "colab_type": "code",
        "outputId": "70455271-369c-4f3b-efb8-e29df62d9fee",
        "colab": {
          "base_uri": "https://localhost:8080/",
          "height": 136
        }
      },
      "source": [
        "# Top 5 team with most kills\n",
        "tdk= teamdf.groupby('team')['k'].sum().nlargest(5)\n",
        "tdk"
      ],
      "execution_count": 28,
      "outputs": [
        {
          "output_type": "execute_result",
          "data": {
            "text/plain": [
              "team\n",
              "Funplus Phoenix    335.0\n",
              "Splyce             298.0\n",
              "Damwon Gaming      273.0\n",
              "G2 Esports         242.0\n",
              "SK Telecom T1      217.0\n",
              "Name: k, dtype: float64"
            ]
          },
          "metadata": {
            "tags": []
          },
          "execution_count": 28
        }
      ]
    },
    {
      "cell_type": "code",
      "metadata": {
        "id": "WcwVehud8ip4",
        "colab_type": "code",
        "colab": {
          "base_uri": "https://localhost:8080/",
          "height": 296
        },
        "outputId": "ff2e2ff4-895c-4be2-b86e-9432c422958e"
      },
      "source": [
        "plt.barh(teamdf[\"team\"], teamdf[\"k\"],align='center', alpha=0.5, height=0.6)\n",
        "plt.xlabel('Team Kill Counts')"
      ],
      "execution_count": 29,
      "outputs": [
        {
          "output_type": "execute_result",
          "data": {
            "text/plain": [
              "Text(0.5, 0, 'Team Kill Counts')"
            ]
          },
          "metadata": {
            "tags": []
          },
          "execution_count": 29
        },
        {
          "output_type": "display_data",
          "data": {
            "image/png": "[encoded data removed]",
            "text/plain": [
              "<Figure size 432x288 with 1 Axes>"
            ]
          },
          "metadata": {
            "tags": []
          }
        }
      ]
    },
    {
      "cell_type": "markdown",
      "metadata": {
        "id": "yfd4kM6zbnLc",
        "colab_type": "text"
      },
      "source": [
        "## **Top 5 Champions**"
      ]
    },
    {
      "cell_type": "code",
      "metadata": {
        "id": "aKsqbhcpbfl0",
        "colab_type": "code",
        "outputId": "f62cf015-a316-4204-8252-f4060e3c6ba0",
        "colab": {
          "base_uri": "https://localhost:8080/",
          "height": 328
        }
      },
      "source": [
        "champwins = playersdf.loc[playersdf['result']==1].groupby('champion')['result'].count()\n",
        "champwins = champwins.reset_index()\n",
        "champwins.rename(columns={'result':'number of wins'},inplace=True)\n",
        "champwins.sort_values(by=['number of wins'],ascending=False).head().plot(\"champion\",\"number of wins\", kind=\"bar\")"
      ],
      "execution_count": 30,
      "outputs": [
        {
          "output_type": "execute_result",
          "data": {
            "text/plain": [
              "<matplotlib.axes._subplots.AxesSubplot at 0x7f1bce0e61d0>"
            ]
          },
          "metadata": {
            "tags": []
          },
          "execution_count": 30
        },
        {
          "output_type": "display_data",
          "data": {
            "image/png": "[encoded data removed]",
            "text/plain": [
              "<Figure size 432x288 with 1 Axes>"
            ]
          },
          "metadata": {
            "tags": []
          }
        }
      ]
    },
    {
      "cell_type": "code",
      "metadata": {
        "id": "muzvEiMDbsSg",
        "colab_type": "code",
        "outputId": "8f0cd3ba-4891-4ddf-db65-62c257d20f90",
        "colab": {
          "base_uri": "https://localhost:8080/",
          "height": 136
        }
      },
      "source": [
        "ft = teamdf.groupby('team')['ft'].sum().nlargest(5)\n",
        "print (\"Top 5 First Tower killer \" + str(ft))"
      ],
      "execution_count": 31,
      "outputs": [
        {
          "output_type": "stream",
          "text": [
            "Top 5 First Tower killer team\n",
            "Funplus Phoenix    13.0\n",
            "SK Telecom T1      12.0\n",
            "Damwon Gaming      11.0\n",
            "Splyce              9.0\n",
            "Clutch Gaming       8.0\n",
            "Name: ft, dtype: float64\n"
          ],
          "name": "stdout"
        }
      ]
    },
    {
      "cell_type": "code",
      "metadata": {
        "id": "7rnTnz2XcXVl",
        "colab_type": "code",
        "outputId": "2f3f5174-3762-4b9d-b11b-555539cef1b2",
        "colab": {
          "base_uri": "https://localhost:8080/",
          "height": 204
        }
      },
      "source": [
        "ftwr = teamdf.groupby(['team','ft'])['result'].sum()\n",
        "ftwr = ftwr.reset_index()\n",
        "ftwr.head()"
      ],
      "execution_count": 32,
      "outputs": [
        {
          "output_type": "execute_result",
          "data": {
            "text/html": [
              "<div>\n",
              "<style scoped>\n",
              "    .dataframe tbody tr th:only-of-type {\n",
              "        vertical-align: middle;\n",
              "    }\n",
              "\n",
              "    .dataframe tbody tr th {\n",
              "        vertical-align: top;\n",
              "    }\n",
              "\n",
              "    .dataframe thead th {\n",
              "        text-align: right;\n",
              "    }\n",
              "</style>\n",
              "<table border=\"1\" class=\"dataframe\">\n",
              "  <thead>\n",
              "    <tr style=\"text-align: right;\">\n",
              "      <th></th>\n",
              "      <th>team</th>\n",
              "      <th>ft</th>\n",
              "      <th>result</th>\n",
              "    </tr>\n",
              "  </thead>\n",
              "  <tbody>\n",
              "    <tr>\n",
              "      <th>0</th>\n",
              "      <td>AHQ e-Sports Club</td>\n",
              "      <td>0.0</td>\n",
              "      <td>0.0</td>\n",
              "    </tr>\n",
              "    <tr>\n",
              "      <th>1</th>\n",
              "      <td>AHQ e-Sports Club</td>\n",
              "      <td>1.0</td>\n",
              "      <td>0.0</td>\n",
              "    </tr>\n",
              "    <tr>\n",
              "      <th>2</th>\n",
              "      <td>Cloud9</td>\n",
              "      <td>0.0</td>\n",
              "      <td>0.0</td>\n",
              "    </tr>\n",
              "    <tr>\n",
              "      <th>3</th>\n",
              "      <td>Cloud9</td>\n",
              "      <td>1.0</td>\n",
              "      <td>2.0</td>\n",
              "    </tr>\n",
              "    <tr>\n",
              "      <th>4</th>\n",
              "      <td>Clutch Gaming</td>\n",
              "      <td>0.0</td>\n",
              "      <td>0.0</td>\n",
              "    </tr>\n",
              "  </tbody>\n",
              "</table>\n",
              "</div>"
            ],
            "text/plain": [
              "                team   ft  result\n",
              "0  AHQ e-Sports Club  0.0     0.0\n",
              "1  AHQ e-Sports Club  1.0     0.0\n",
              "2             Cloud9  0.0     0.0\n",
              "3             Cloud9  1.0     2.0\n",
              "4      Clutch Gaming  0.0     0.0"
            ]
          },
          "metadata": {
            "tags": []
          },
          "execution_count": 32
        }
      ]
    },
    {
      "cell_type": "code",
      "metadata": {
        "id": "ahOqlS5Ycl7V",
        "colab_type": "code",
        "colab": {}
      },
      "source": [
        "tkw = ftwr.groupby('ft')['result'].sum()"
      ],
      "execution_count": 0,
      "outputs": []
    },
    {
      "cell_type": "code",
      "metadata": {
        "id": "ZaS5Vtabdvas",
        "colab_type": "code",
        "outputId": "f75c5f06-d83d-4c8b-9cef-ddd105ac0f4e",
        "colab": {
          "base_uri": "https://localhost:8080/",
          "height": 34
        }
      },
      "source": [
        "tkwr = ftwr.groupby('ft')['result'].sum()[1]/(ftwr.groupby('ft')['result'].sum()[0]+ftwr.groupby('ft')['result'].sum()[1])\n",
        "tkwr = round(tkwr*100,1)\n",
        "print (\"The team that kills the first tower will win the game by \" + str(tkwr) + \" %\")"
      ],
      "execution_count": 34,
      "outputs": [
        {
          "output_type": "stream",
          "text": [
            "The team that kills the first tower will win the game by 69.7 %\n"
          ],
          "name": "stdout"
        }
      ]
    },
    {
      "cell_type": "code",
      "metadata": {
        "id": "P_nxpgcKgMbP",
        "colab_type": "code",
        "outputId": "dc9cd281-d21b-448b-b193-ad1dc1cef319",
        "colab": {
          "base_uri": "https://localhost:8080/",
          "height": 136
        }
      },
      "source": [
        "teamdf.groupby('team')['fbaron'].sum().nlargest(5)"
      ],
      "execution_count": 35,
      "outputs": [
        {
          "output_type": "execute_result",
          "data": {
            "text/plain": [
              "team\n",
              "Damwon Gaming      13.0\n",
              "Funplus Phoenix    13.0\n",
              "Splyce             12.0\n",
              "SK Telecom T1      10.0\n",
              "G2 Esports          8.0\n",
              "Name: fbaron, dtype: float64"
            ]
          },
          "metadata": {
            "tags": []
          },
          "execution_count": 35
        }
      ]
    },
    {
      "cell_type": "code",
      "metadata": {
        "id": "03vmE0B8eKdJ",
        "colab_type": "code",
        "outputId": "e2475ceb-0dab-46ad-d8ee-e3aad31e43b3",
        "colab": {
          "base_uri": "https://localhost:8080/",
          "height": 279
        }
      },
      "source": [
        "fbwr = teamdf.groupby(['team','fbaron'])['result'].sum().nlargest(5)\n",
        "fbwr = fbwr.reset_index()\n",
        "fbwr.head().plot(kind=\"bar\")"
      ],
      "execution_count": 36,
      "outputs": [
        {
          "output_type": "execute_result",
          "data": {
            "text/plain": [
              "<matplotlib.axes._subplots.AxesSubplot at 0x7f1bce03edd8>"
            ]
          },
          "metadata": {
            "tags": []
          },
          "execution_count": 36
        },
        {
          "output_type": "display_data",
          "data": {
            "image/png": "[encoded data removed]",
            "text/plain": [
              "<Figure size 432x288 with 1 Axes>"
            ]
          },
          "metadata": {
            "tags": []
          }
        }
      ]
    },
    {
      "cell_type": "code",
      "metadata": {
        "id": "KWgyCzmSl4jS",
        "colab_type": "code",
        "colab": {}
      },
      "source": [
        "fbw = fbwr.groupby('fbaron')['result'].sum()"
      ],
      "execution_count": 0,
      "outputs": []
    },
    {
      "cell_type": "code",
      "metadata": {
        "id": "qIgVQIVmfCmB",
        "colab_type": "code",
        "colab": {}
      },
      "source": [
        "fbwr = teamdf.groupby(['team','fbaron'])['result'].sum()\n",
        "fbwr = fbwr.reset_index()\n",
        "bkr = fbwr.groupby('fbaron')['result'].sum()"
      ],
      "execution_count": 0,
      "outputs": []
    },
    {
      "cell_type": "code",
      "metadata": {
        "id": "aGE3lZDBgjkg",
        "colab_type": "code",
        "colab": {}
      },
      "source": [
        "bkwr = bkr[1]/(bkr[0]+bkr[1])"
      ],
      "execution_count": 0,
      "outputs": []
    },
    {
      "cell_type": "code",
      "metadata": {
        "id": "sj1IoHKWntxX",
        "colab_type": "code",
        "outputId": "9f942202-a120-4495-d42f-3fe2df1180ef",
        "colab": {
          "base_uri": "https://localhost:8080/",
          "height": 34
        }
      },
      "source": [
        "bkwr = round(bkwr*100,1)\n",
        "print (\"The team that kills the first baron will win the game by \" + str(bkwr) + \" %\")"
      ],
      "execution_count": 40,
      "outputs": [
        {
          "output_type": "stream",
          "text": [
            "The team that kills the first baron will win the game by 87.8 %\n"
          ],
          "name": "stdout"
        }
      ]
    },
    {
      "cell_type": "code",
      "metadata": {
        "id": "ncgdvrcuo4wf",
        "colab_type": "code",
        "outputId": "dc3fc1ea-e43c-4fb5-9211-0ca090123f43",
        "colab": {
          "base_uri": "https://localhost:8080/",
          "height": 34
        }
      },
      "source": [
        "print (\" Top 5 players who did most damage to champs\")"
      ],
      "execution_count": 41,
      "outputs": [
        {
          "output_type": "stream",
          "text": [
            " Top 5 players who did most damage to champs\n"
          ],
          "name": "stdout"
        }
      ]
    },
    {
      "cell_type": "code",
      "metadata": {
        "id": "wUXKnKBwodO6",
        "colab_type": "code",
        "outputId": "e65eb69f-c2b5-486b-cfb9-3a203c91dd8f",
        "colab": {
          "base_uri": "https://localhost:8080/",
          "height": 340
        }
      },
      "source": [
        "playersdf.groupby('player')['dmgtochamps'].sum().nlargest(5).plot(kind=\"bar\", legend=True)"
      ],
      "execution_count": 42,
      "outputs": [
        {
          "output_type": "execute_result",
          "data": {
            "text/plain": [
              "<matplotlib.axes._subplots.AxesSubplot at 0x7f1bcdf4ecf8>"
            ]
          },
          "metadata": {
            "tags": []
          },
          "execution_count": 42
        },
        {
          "output_type": "display_data",
          "data": {
            "image/png": "[encoded data removed]",
            "text/plain": [
              "<Figure size 432x288 with 1 Axes>"
            ]
          },
          "metadata": {
            "tags": []
          }
        }
      ]
    },
    {
      "cell_type": "code",
      "metadata": {
        "id": "Q8cqUnbiFg1L",
        "colab_type": "code",
        "colab": {}
      },
      "source": [
        ""
      ],
      "execution_count": 0,
      "outputs": []
    }
  ]
}